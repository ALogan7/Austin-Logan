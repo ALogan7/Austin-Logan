{
 "cells": [
  {
   "cell_type": "markdown",
   "metadata": {},
   "source": [
    "# Lesson 9\n",
    "\n",
    "## Functions and 'Apply'\n",
    "\n",
    "### 1) The tips.csv dataset contains data on tips collected from a restaurant.\n",
    "\n",
    "#### a. Find the mean tip broken down by sex. On one plot, build a histogram of tips for males overlaid with a histogram of tips for females. Discuss what you found.\n",
    "\n"
   ]
  },
  {
   "cell_type": "code",
   "execution_count": 8,
   "metadata": {},
   "outputs": [
    {
     "data": {
      "text/html": [
       "<table border=\"1\" class=\"dataframe\">\n",
       "    <thead>\n",
       "        <tr>\n",
       "            <th>total_bill</th> <th>tip</th> <th>sex</th> <th>smoker</th> <th>day</th> <th>time</th> <th>size</th>\n",
       "        </tr>\n",
       "    </thead>\n",
       "    <tbody>\n",
       "        <tr>\n",
       "            <td>16.99     </td> <td>1.01</td> <td>Female</td> <td>No    </td> <td>Sun </td> <td>Dinner</td> <td>2   </td>\n",
       "        </tr>\n",
       "        <tr>\n",
       "            <td>10.34     </td> <td>1.66</td> <td>Male  </td> <td>No    </td> <td>Sun </td> <td>Dinner</td> <td>3   </td>\n",
       "        </tr>\n",
       "        <tr>\n",
       "            <td>21.01     </td> <td>3.5 </td> <td>Male  </td> <td>No    </td> <td>Sun </td> <td>Dinner</td> <td>3   </td>\n",
       "        </tr>\n",
       "        <tr>\n",
       "            <td>23.68     </td> <td>3.31</td> <td>Male  </td> <td>No    </td> <td>Sun </td> <td>Dinner</td> <td>2   </td>\n",
       "        </tr>\n",
       "        <tr>\n",
       "            <td>24.59     </td> <td>3.61</td> <td>Female</td> <td>No    </td> <td>Sun </td> <td>Dinner</td> <td>4   </td>\n",
       "        </tr>\n",
       "        <tr>\n",
       "            <td>25.29     </td> <td>4.71</td> <td>Male  </td> <td>No    </td> <td>Sun </td> <td>Dinner</td> <td>4   </td>\n",
       "        </tr>\n",
       "        <tr>\n",
       "            <td>8.77      </td> <td>2   </td> <td>Male  </td> <td>No    </td> <td>Sun </td> <td>Dinner</td> <td>2   </td>\n",
       "        </tr>\n",
       "        <tr>\n",
       "            <td>26.88     </td> <td>3.12</td> <td>Male  </td> <td>No    </td> <td>Sun </td> <td>Dinner</td> <td>4   </td>\n",
       "        </tr>\n",
       "        <tr>\n",
       "            <td>15.04     </td> <td>1.96</td> <td>Male  </td> <td>No    </td> <td>Sun </td> <td>Dinner</td> <td>2   </td>\n",
       "        </tr>\n",
       "        <tr>\n",
       "            <td>14.78     </td> <td>3.23</td> <td>Male  </td> <td>No    </td> <td>Sun </td> <td>Dinner</td> <td>2   </td>\n",
       "        </tr>\n",
       "    </tbody>\n",
       "</table>\n",
       "<p>... (234 rows omitted)</p>"
      ],
      "text/plain": [
       "total_bill | tip  | sex    | smoker | day  | time   | size\n",
       "16.99      | 1.01 | Female | No     | Sun  | Dinner | 2\n",
       "10.34      | 1.66 | Male   | No     | Sun  | Dinner | 3\n",
       "21.01      | 3.5  | Male   | No     | Sun  | Dinner | 3\n",
       "23.68      | 3.31 | Male   | No     | Sun  | Dinner | 2\n",
       "24.59      | 3.61 | Female | No     | Sun  | Dinner | 4\n",
       "25.29      | 4.71 | Male   | No     | Sun  | Dinner | 4\n",
       "8.77       | 2    | Male   | No     | Sun  | Dinner | 2\n",
       "26.88      | 3.12 | Male   | No     | Sun  | Dinner | 4\n",
       "15.04      | 1.96 | Male   | No     | Sun  | Dinner | 2\n",
       "14.78      | 3.23 | Male   | No     | Sun  | Dinner | 2\n",
       "... (234 rows omitted)"
      ]
     },
     "execution_count": 8,
     "metadata": {},
     "output_type": "execute_result"
    }
   ],
   "source": [
    "from datascience import *\n",
    "%matplotlib inline\n",
    "Tips = Table.read_table(\"tips.csv\")\n",
    "Tips"
   ]
  },
  {
   "cell_type": "code",
   "execution_count": 7,
   "metadata": {},
   "outputs": [
    {
     "name": "stdout",
     "output_type": "stream",
     "text": [
      "The male tip average is 3.0896178343949043\n",
      "The female tip average is 2.8334482758620685\n"
     ]
    }
   ],
   "source": [
    "import numpy as np\n",
    "maletips = Tips.where(\"sex\", are.equal_to(\"Male\"))\n",
    "maletipavg = np.average(maletips.column(\"tip\"))\n",
    "femaletips = Tips.where(\"sex\", are.equal_to(\"Female\"))\n",
    "femaletipavg = np.average(femaletips.column(\"tip\"))\n",
    "print(\"The male tip average is \" + str(maletipavg))\n",
    "print(\"The female tip average is \" + str(femaletipavg))"
   ]
  },
  {
   "cell_type": "code",
   "execution_count": 3,
   "metadata": {},
   "outputs": [
    {
     "name": "stderr",
     "output_type": "stream",
     "text": [
      "C:\\Users\\C20Austin.Logan\\Downloads\\Python\\lib\\site-packages\\matplotlib\\axes\\_axes.py:6462: UserWarning: The 'normed' kwarg is deprecated, and has been replaced by the 'density' kwarg.\n",
      "  warnings.warn(\"The 'normed' kwarg is deprecated, and has been \"\n"
     ]
    },
    {
     "data": {
      "image/png": "[encoded data removed]",
      "text/plain": [
       "<Figure size 432x288 with 1 Axes>"
      ]
     },
     "metadata": {},
     "output_type": "display_data"
    }
   ],
   "source": [
    "Tips.select(\"tip\",\"sex\").hist(\"tip\",group=\"sex\")"
   ]
  },
  {
   "cell_type": "markdown",
   "metadata": {},
   "source": [
    "#### b. Repeat part a, but broken down by time."
   ]
  },
  {
   "cell_type": "code",
   "execution_count": 4,
   "metadata": {},
   "outputs": [
    {
     "name": "stderr",
     "output_type": "stream",
     "text": [
      "C:\\Users\\C20Austin.Logan\\Downloads\\Python\\lib\\site-packages\\matplotlib\\axes\\_axes.py:6462: UserWarning: The 'normed' kwarg is deprecated, and has been replaced by the 'density' kwarg.\n",
      "  warnings.warn(\"The 'normed' kwarg is deprecated, and has been \"\n"
     ]
    },
    {
     "data": {
      "image/png": "[encoded data removed]",
      "text/plain": [
       "<Figure size 432x288 with 1 Axes>"
      ]
     },
     "metadata": {},
     "output_type": "display_data"
    }
   ],
   "source": [
    "Tips.select(\"tip\",\"time\").hist(\"tip\",group=\"time\")"
   ]
  },
  {
   "cell_type": "markdown",
   "metadata": {},
   "source": [
    "### 2) Create a function called weekday_to_num. This function inputs a string denoting day of the week (Mon, Tues, Wed, Thur, Fri, Sat, Sun), and returns a number (Mon = 1, Tues = 2, … Sun = 7)."
   ]
  },
  {
   "cell_type": "code",
   "execution_count": 26,
   "metadata": {},
   "outputs": [],
   "source": [
    "def weekday_to_num(day):\n",
    "    \"\"\"This function returns a number denoting day of the week\"\"\"\n",
    "    if day == \"Mon\":\n",
    "        return 1\n",
    "    if day == \"Tues\":\n",
    "        return 2\n",
    "    if day == \"Wed\":\n",
    "        return 3\n",
    "    if day == \"Thur\":\n",
    "        return 4\n",
    "    if day == \"Fri\":\n",
    "        return 5\n",
    "    if day == \"Sat\":\n",
    "        return 6\n",
    "    if day == \"Sun\":\n",
    "        return 7"
   ]
  },
  {
   "cell_type": "markdown",
   "metadata": {},
   "source": [
    "### 3) Apply this function to the day column of tips and include the result as a new column in tips, called weekday_num."
   ]
  },
  {
   "cell_type": "code",
   "execution_count": 27,
   "metadata": {},
   "outputs": [
    {
     "data": {
      "text/html": [
       "<table border=\"1\" class=\"dataframe\">\n",
       "    <thead>\n",
       "        <tr>\n",
       "            <th>total_bill</th> <th>tip</th> <th>sex</th> <th>smoker</th> <th>day</th> <th>time</th> <th>size</th> <th>weekday_num</th>\n",
       "        </tr>\n",
       "    </thead>\n",
       "    <tbody>\n",
       "        <tr>\n",
       "            <td>16.99     </td> <td>1.01</td> <td>Female</td> <td>No    </td> <td>Sun </td> <td>Dinner</td> <td>2   </td> <td>7          </td>\n",
       "        </tr>\n",
       "        <tr>\n",
       "            <td>10.34     </td> <td>1.66</td> <td>Male  </td> <td>No    </td> <td>Sun </td> <td>Dinner</td> <td>3   </td> <td>7          </td>\n",
       "        </tr>\n",
       "        <tr>\n",
       "            <td>21.01     </td> <td>3.5 </td> <td>Male  </td> <td>No    </td> <td>Sun </td> <td>Dinner</td> <td>3   </td> <td>7          </td>\n",
       "        </tr>\n",
       "        <tr>\n",
       "            <td>23.68     </td> <td>3.31</td> <td>Male  </td> <td>No    </td> <td>Sun </td> <td>Dinner</td> <td>2   </td> <td>7          </td>\n",
       "        </tr>\n",
       "        <tr>\n",
       "            <td>24.59     </td> <td>3.61</td> <td>Female</td> <td>No    </td> <td>Sun </td> <td>Dinner</td> <td>4   </td> <td>7          </td>\n",
       "        </tr>\n",
       "        <tr>\n",
       "            <td>25.29     </td> <td>4.71</td> <td>Male  </td> <td>No    </td> <td>Sun </td> <td>Dinner</td> <td>4   </td> <td>7          </td>\n",
       "        </tr>\n",
       "        <tr>\n",
       "            <td>8.77      </td> <td>2   </td> <td>Male  </td> <td>No    </td> <td>Sun </td> <td>Dinner</td> <td>2   </td> <td>7          </td>\n",
       "        </tr>\n",
       "        <tr>\n",
       "            <td>26.88     </td> <td>3.12</td> <td>Male  </td> <td>No    </td> <td>Sun </td> <td>Dinner</td> <td>4   </td> <td>7          </td>\n",
       "        </tr>\n",
       "        <tr>\n",
       "            <td>15.04     </td> <td>1.96</td> <td>Male  </td> <td>No    </td> <td>Sun </td> <td>Dinner</td> <td>2   </td> <td>7          </td>\n",
       "        </tr>\n",
       "        <tr>\n",
       "            <td>14.78     </td> <td>3.23</td> <td>Male  </td> <td>No    </td> <td>Sun </td> <td>Dinner</td> <td>2   </td> <td>7          </td>\n",
       "        </tr>\n",
       "    </tbody>\n",
       "</table>\n",
       "<p>... (234 rows omitted)</p>"
      ],
      "text/plain": [
       "total_bill | tip  | sex    | smoker | day  | time   | size | weekday_num\n",
       "16.99      | 1.01 | Female | No     | Sun  | Dinner | 2    | 7\n",
       "10.34      | 1.66 | Male   | No     | Sun  | Dinner | 3    | 7\n",
       "21.01      | 3.5  | Male   | No     | Sun  | Dinner | 3    | 7\n",
       "23.68      | 3.31 | Male   | No     | Sun  | Dinner | 2    | 7\n",
       "24.59      | 3.61 | Female | No     | Sun  | Dinner | 4    | 7\n",
       "25.29      | 4.71 | Male   | No     | Sun  | Dinner | 4    | 7\n",
       "8.77       | 2    | Male   | No     | Sun  | Dinner | 2    | 7\n",
       "26.88      | 3.12 | Male   | No     | Sun  | Dinner | 4    | 7\n",
       "15.04      | 1.96 | Male   | No     | Sun  | Dinner | 2    | 7\n",
       "14.78      | 3.23 | Male   | No     | Sun  | Dinner | 2    | 7\n",
       "... (234 rows omitted)"
      ]
     },
     "execution_count": 27,
     "metadata": {},
     "output_type": "execute_result"
    }
   ],
   "source": [
    "Tips.append_column(\"weekday_num\", Tips.apply(weekday_to_num, \"day\"))\n",
    "Tips.sort(\"total_bill\")"
   ]
  },
  {
   "cell_type": "markdown",
   "metadata": {},
   "source": [
    "### 4) Create a function called est_tip. The output of this function will be the predicted tip amount."
   ]
  },
  {
   "cell_type": "code",
   "execution_count": 33,
   "metadata": {},
   "outputs": [],
   "source": [
    "def est_tip(bill_amt, window):\n",
    "    \"\"\"This function takes in a bill amount and a window value and predicts the tip based on the values inside this window\"\"\"\n",
    "    new_tips = Tips.where(\"total_bill\", are.between(bill_amt-window,bill_amt+window))\n",
    "    return np.average(new_tips.column(\"tip\"))"
   ]
  },
  {
   "cell_type": "markdown",
   "metadata": {},
   "source": [
    "### 5) Apply this function to the total_bill column of tips and include the result as a new column in tips. Build a scatterplot showing predicted tip amount overlaid with actual tip amount."
   ]
  },
  {
   "cell_type": "code",
   "execution_count": 55,
   "metadata": {},
   "outputs": [
    {
     "data": {
      "text/html": [
       "<table border=\"1\" class=\"dataframe\">\n",
       "    <thead>\n",
       "        <tr>\n",
       "            <th>total_bill</th> <th>tip</th> <th>sex</th> <th>smoker</th> <th>day</th> <th>time</th> <th>size</th> <th>weekday_num</th> <th>predicted_tip</th>\n",
       "        </tr>\n",
       "    </thead>\n",
       "    <tbody>\n",
       "        <tr>\n",
       "            <td>16.99     </td> <td>1.01</td> <td>Female</td> <td>No    </td> <td>Sun </td> <td>Dinner</td> <td>2   </td> <td>7          </td> <td>2.80618      </td>\n",
       "        </tr>\n",
       "        <tr>\n",
       "            <td>10.34     </td> <td>1.66</td> <td>Male  </td> <td>No    </td> <td>Sun </td> <td>Dinner</td> <td>3   </td> <td>7          </td> <td>1.90276      </td>\n",
       "        </tr>\n",
       "        <tr>\n",
       "            <td>21.01     </td> <td>3.5 </td> <td>Male  </td> <td>No    </td> <td>Sun </td> <td>Dinner</td> <td>3   </td> <td>7          </td> <td>3.19508      </td>\n",
       "        </tr>\n",
       "        <tr>\n",
       "            <td>23.68     </td> <td>3.31</td> <td>Male  </td> <td>No    </td> <td>Sun </td> <td>Dinner</td> <td>2   </td> <td>7          </td> <td>3.57681      </td>\n",
       "        </tr>\n",
       "        <tr>\n",
       "            <td>24.59     </td> <td>3.61</td> <td>Female</td> <td>No    </td> <td>Sun </td> <td>Dinner</td> <td>4   </td> <td>7          </td> <td>3.6575       </td>\n",
       "        </tr>\n",
       "        <tr>\n",
       "            <td>25.29     </td> <td>4.71</td> <td>Male  </td> <td>No    </td> <td>Sun </td> <td>Dinner</td> <td>4   </td> <td>7          </td> <td>3.67526      </td>\n",
       "        </tr>\n",
       "        <tr>\n",
       "            <td>8.77      </td> <td>2   </td> <td>Male  </td> <td>No    </td> <td>Sun </td> <td>Dinner</td> <td>2   </td> <td>7          </td> <td>1.86857      </td>\n",
       "        </tr>\n",
       "        <tr>\n",
       "            <td>26.88     </td> <td>3.12</td> <td>Male  </td> <td>No    </td> <td>Sun </td> <td>Dinner</td> <td>4   </td> <td>7          </td> <td>3.72424      </td>\n",
       "        </tr>\n",
       "        <tr>\n",
       "            <td>15.04     </td> <td>1.96</td> <td>Male  </td> <td>No    </td> <td>Sun </td> <td>Dinner</td> <td>2   </td> <td>7          </td> <td>2.54036      </td>\n",
       "        </tr>\n",
       "        <tr>\n",
       "            <td>14.78     </td> <td>3.23</td> <td>Male  </td> <td>No    </td> <td>Sun </td> <td>Dinner</td> <td>2   </td> <td>7          </td> <td>2.46231      </td>\n",
       "        </tr>\n",
       "    </tbody>\n",
       "</table>\n",
       "<p>... (234 rows omitted)</p>"
      ],
      "text/plain": [
       "total_bill | tip  | sex    | smoker | day  | time   | size | weekday_num | predicted_tip\n",
       "16.99      | 1.01 | Female | No     | Sun  | Dinner | 2    | 7           | 2.80618\n",
       "10.34      | 1.66 | Male   | No     | Sun  | Dinner | 3    | 7           | 1.90276\n",
       "21.01      | 3.5  | Male   | No     | Sun  | Dinner | 3    | 7           | 3.19508\n",
       "23.68      | 3.31 | Male   | No     | Sun  | Dinner | 2    | 7           | 3.57681\n",
       "24.59      | 3.61 | Female | No     | Sun  | Dinner | 4    | 7           | 3.6575\n",
       "25.29      | 4.71 | Male   | No     | Sun  | Dinner | 4    | 7           | 3.67526\n",
       "8.77       | 2    | Male   | No     | Sun  | Dinner | 2    | 7           | 1.86857\n",
       "26.88      | 3.12 | Male   | No     | Sun  | Dinner | 4    | 7           | 3.72424\n",
       "15.04      | 1.96 | Male   | No     | Sun  | Dinner | 2    | 7           | 2.54036\n",
       "14.78      | 3.23 | Male   | No     | Sun  | Dinner | 2    | 7           | 2.46231\n",
       "... (234 rows omitted)"
      ]
     },
     "execution_count": 55,
     "metadata": {},
     "output_type": "execute_result"
    }
   ],
   "source": [
    "win = 2\n",
    "final_tips = Tips.append_column(\"predicted_tip\", Tips.apply(est_tip, \"total_bill\", 1))\n",
    "Tips"
   ]
  },
  {
   "cell_type": "code",
   "execution_count": 50,
   "metadata": {},
   "outputs": [
    {
     "data": {
      "image/png": "[encoded data removed]",
      "text/plain": [
       "<Figure size 360x360 with 1 Axes>"
      ]
     },
     "metadata": {},
     "output_type": "display_data"
    }
   ],
   "source": [
    "final_tips = Tips.select(\"total_bill\", \"tip\", \"predicted_tip\")\n",
    "final_tips.scatter('total_bill')"
   ]
  }
 ],
 "metadata": {
  "kernelspec": {
   "display_name": "Python 3",
   "language": "python",
   "name": "python3"
  },
  "language_info": {
   "codemirror_mode": {
    "name": "ipython",
    "version": 3
   },
   "file_extension": ".py",
   "mimetype": "text/x-python",
   "name": "python",
   "nbconvert_exporter": "python",
   "pygments_lexer": "ipython3",
   "version": "3.6.5"
  }
 },
 "nbformat": 4,
 "nbformat_minor": 2
}
